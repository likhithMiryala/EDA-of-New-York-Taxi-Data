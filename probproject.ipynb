{
 "cells": [
  {
   "cell_type": "markdown",
   "metadata": {},
   "source": [
    "# Team mates:\n"
   ]
  },
  {
   "cell_type": "markdown",
   "metadata": {},
   "source": [
    "### Hari Krishna, Likith Kumar, Sai Kiran"
   ]
  },
  {
   "cell_type": "code",
   "execution_count": 1,
   "metadata": {
    "collapsed": true,
    "deletable": true,
    "editable": true
   },
   "outputs": [],
   "source": [
    "# Importing the required libraries. \n",
    "\n",
    "import numpy as np\n",
    "from datetime import datetime\n",
    "import matplotlib.pyplot as plt\n",
    "import pymysql.cursors\n",
    "import pandas as pd\n",
    "%matplotlib inline"
   ]
  },
  {
   "cell_type": "code",
   "execution_count": 2,
   "metadata": {
    "collapsed": true,
    "deletable": true,
    "editable": true
   },
   "outputs": [],
   "source": [
    "#Making a connection to the database and fetching all the data. \n",
    "\n",
    "connection = pymysql.connect(host='localhost',\n",
    "                             user='root',\n",
    "                             password='root',\n",
    "                             db='projectdb',\n",
    "                             charset='utf8mb4',\n",
    "                             cursorclass=pymysql.cursors.DictCursor)\n",
    "try:\n",
    "    with connection.cursor() as cursor:\n",
    "        sql = \"SELECT * FROM newyork_taxi_data\"\n",
    "        cursor.execute(sql)\n",
    "        all_data = cursor.fetchall()    \n",
    "finally:\n",
    "    connection.close()\n",
    "    \n",
    "df_all_data = pd.DataFrame(all_data)"
   ]
  },
  {
   "cell_type": "markdown",
   "metadata": {},
   "source": [
    "## Question - 1"
   ]
  },
  {
   "cell_type": "code",
   "execution_count": 3,
   "metadata": {
    "collapsed": false,
    "deletable": true,
    "editable": true
   },
   "outputs": [
    {
     "data": {
      "image/png": "[encoded data removed]",
      "text/plain": [
       "<matplotlib.figure.Figure at 0x7ff6fe57f978>"
      ]
     },
     "metadata": {},
     "output_type": "display_data"
    }
   ],
   "source": [
    "import seaborn as sns\n",
    "\n",
    "#Original data has lots of outliers. In the range of 2000000 as the time duration. Hence removing those by \n",
    "#considering only top 99 percentile of the data. \n",
    "q = df_all_data.trip_duration.quantile(0.99)\n",
    "df_all_data = df_all_data[df_all_data.trip_duration < q]\n",
    "plt.figure(figsize=(12,8))\n",
    "sns.distplot(df_all_data.trip_duration.values, bins=50, kde=True)\n",
    "plt.xlabel('trip_duration', fontsize=12)\n",
    "plt.show()"
   ]
  },
  {
   "cell_type": "code",
   "execution_count": 4,
   "metadata": {
    "collapsed": false
   },
   "outputs": [
    {
     "name": "stdout",
     "output_type": "stream",
     "text": [
      "Mean of trip_duration: 807.46\n",
      "Standard Deviation of trip_duration: 575.42\n"
     ]
    }
   ],
   "source": [
    "print(\"Mean of trip_duration: %.2f\"%np.mean(df_all_data['trip_duration']))\n",
    "print(\"Standard Deviation of trip_duration: %.2f\"%np.std(df_all_data['trip_duration']))"
   ]
  },
  {
   "cell_type": "markdown",
   "metadata": {},
   "source": [
    "## Question - 2"
   ]
  },
  {
   "cell_type": "code",
   "execution_count": 5,
   "metadata": {
    "collapsed": false
   },
   "outputs": [
    {
     "name": "stdout",
     "output_type": "stream",
     "text": [
      "Root Mean Square for train 333.008\n",
      "Root Mean Square for test 21337.652\n"
     ]
    }
   ],
   "source": [
    "from sklearn.model_selection import train_test_split\n",
    "from sklearn.gaussian_process import GaussianProcessRegressor\n",
    "from sklearn.metrics import mean_squared_error\n",
    "\n",
    "import random\n",
    "random.seed(123)\n",
    "df_all_data = df_all_data.sample(7000)\n",
    "\n",
    "X_train, X_test, Y_train, Y_test = train_test_split(df_all_data,df_all_data['trip_duration'],\n",
    "                                                    test_size=0.3, random_state=123)\n",
    "\n",
    "#The features are categorical. Hence removing them. \n",
    "X_train = X_train.drop(['id','store_and_fwd_flag','pickup_datetime','dropoff_datetime','trip_duration'], axis=1)\n",
    "X_test = X_test.drop(['id','store_and_fwd_flag','pickup_datetime','dropoff_datetime','trip_duration'], axis=1)\n",
    "\n",
    "\n",
    "\n",
    "#Intializing the Gaussian Process Regressor\n",
    "gp = GaussianProcessRegressor()\n",
    "\n",
    "#Fitting the model \n",
    "gp.fit(X_train, Y_train)\n",
    "\n",
    "#Predictions\n",
    "train_pred = gp.predict(X_train)\n",
    "test_pred= gp.predict(X_test)\n",
    "\n",
    "\n",
    "# The root mean squared error calculation\n",
    "print(\"Root Mean Square for train %.3f\"\n",
    "      % np.sqrt(mean_squared_error(Y_train, train_pred)))\n",
    "\n",
    "print(\"Root Mean Square for test %.3f\"\n",
    "      % np.sqrt(mean_squared_error(Y_test, test_pred)))"
   ]
  },
  {
   "cell_type": "markdown",
   "metadata": {},
   "source": [
    "## Question - 3"
   ]
  },
  {
   "cell_type": "code",
   "execution_count": 8,
   "metadata": {
    "collapsed": false,
    "deletable": true,
    "editable": true
   },
   "outputs": [
    {
     "data": {
      "text/html": [
       "<div>\n",
       "<style scoped>\n",
       "    .dataframe tbody tr th:only-of-type {\n",
       "        vertical-align: middle;\n",
       "    }\n",
       "\n",
       "    .dataframe tbody tr th {\n",
       "        vertical-align: top;\n",
       "    }\n",
       "\n",
       "    .dataframe thead th {\n",
       "        text-align: right;\n",
       "    }\n",
       "</style>\n",
       "<table border=\"1\" class=\"dataframe\">\n",
       "  <thead>\n",
       "    <tr style=\"text-align: right;\">\n",
       "      <th></th>\n",
       "      <th>pickup_cluster</th>\n",
       "      <th>dropoff_cluster</th>\n",
       "      <th>trip_duration</th>\n",
       "    </tr>\n",
       "  </thead>\n",
       "  <tbody>\n",
       "    <tr>\n",
       "      <th>3</th>\n",
       "      <td>0</td>\n",
       "      <td>3</td>\n",
       "      <td>659.5</td>\n",
       "    </tr>\n",
       "    <tr>\n",
       "      <th>18</th>\n",
       "      <td>1</td>\n",
       "      <td>3</td>\n",
       "      <td>2493.0</td>\n",
       "    </tr>\n",
       "    <tr>\n",
       "      <th>32</th>\n",
       "      <td>2</td>\n",
       "      <td>3</td>\n",
       "      <td>1069.0</td>\n",
       "    </tr>\n",
       "    <tr>\n",
       "      <th>62</th>\n",
       "      <td>4</td>\n",
       "      <td>3</td>\n",
       "      <td>1894.5</td>\n",
       "    </tr>\n",
       "    <tr>\n",
       "      <th>76</th>\n",
       "      <td>5</td>\n",
       "      <td>3</td>\n",
       "      <td>1004.0</td>\n",
       "    </tr>\n",
       "  </tbody>\n",
       "</table>\n",
       "</div>"
      ],
      "text/plain": [
       "    pickup_cluster  dropoff_cluster  trip_duration\n",
       "3                0                3          659.5\n",
       "18               1                3         2493.0\n",
       "32               2                3         1069.0\n",
       "62               4                3         1894.5\n",
       "76               5                3         1004.0"
      ]
     },
     "execution_count": 8,
     "metadata": {},
     "output_type": "execute_result"
    }
   ],
   "source": [
    "#WE DO NOT HAVE AREA CODES IN OUR DATASET. HENCE CREATING THE AREA CODES BY CLUSTERING THE DATA BY \n",
    "#LATITUDES AND LONGITUDES.\n",
    "\n",
    "#Pre-req code for betterment of solution of Question-3's accuracy. \n",
    "\n",
    "# The idea is to report the time taken from one cluster to another cluster so that, we can get a better estimate\n",
    "# of the starting time to reach a certain location.\n",
    "from dateutil import parser\n",
    "from sklearn.cluster import KMeans\n",
    "from sklearn.neighbors import KNeighborsClassifier\n",
    "\n",
    "longitude = list(df_all_data.pickup_longitude) + list(df_all_data.dropoff_longitude)\n",
    "latitude = list(df_all_data.pickup_latitude) + list(df_all_data.dropoff_latitude)\n",
    "\n",
    "df_location = pd.DataFrame()\n",
    "df_location['longitude'] = longitude\n",
    "df_location['latitude'] = latitude\n",
    "\n",
    "kmeans = KMeans(n_clusters=15, random_state = 123, n_init = 25).fit(df_location)\n",
    "df_location['label'] = kmeans.labels_\n",
    "\n",
    "\n",
    "\n",
    "df_all_data['pickup_cluster'] = kmeans.predict(df_all_data[['pickup_longitude','pickup_latitude']])\n",
    "df_all_data['dropoff_cluster'] = kmeans.predict(df_all_data[['dropoff_longitude','dropoff_latitude']])\n",
    "\n",
    "\n",
    "# Calculating the median time taken from one cluster to cluster-3 (chosen cluster).\n",
    "cluster_to_cluster = pd.DataFrame(df_all_data.groupby(['pickup_cluster', 'dropoff_cluster'])['trip_duration'].median()).reset_index()\n",
    "inter_cluster_distance=cluster_to_cluster.loc[cluster_to_cluster['dropoff_cluster'] == 3]\n",
    "inter_cluster_distance=inter_cluster_distance[inter_cluster_distance.pickup_cluster!=3]\n",
    "\n",
    "inter_cluster_distance.head()\n",
    "\n",
    "#Since we now have the median trip duration values now, we can make better estimates of when to start!"
   ]
  },
  {
   "cell_type": "code",
   "execution_count": 9,
   "metadata": {
    "collapsed": false
   },
   "outputs": [
    {
     "data": {
      "text/plain": [
       "1004.0"
      ]
     },
     "execution_count": 9,
     "metadata": {},
     "output_type": "execute_result"
    }
   ],
   "source": [
    "# ACTUAL QUESTION\n",
    "# Alternatively if we just want to report the overall median time\n",
    "\n",
    "cluster_to_cluster.loc[cluster_to_cluster['dropoff_cluster'] == 3]['trip_duration'].median()"
   ]
  },
  {
   "cell_type": "code",
   "execution_count": null,
   "metadata": {
    "collapsed": true
   },
   "outputs": [],
   "source": []
  }
 ],
 "metadata": {
  "kernelspec": {
   "display_name": "Python 3",
   "language": "python",
   "name": "python3"
  },
  "language_info": {
   "codemirror_mode": {
    "name": "ipython",
    "version": 3
   },
   "file_extension": ".py",
   "mimetype": "text/x-python",
   "name": "python",
   "nbconvert_exporter": "python",
   "pygments_lexer": "ipython3",
   "version": "3.6.0"
  }
 },
 "nbformat": 4,
 "nbformat_minor": 2
}
